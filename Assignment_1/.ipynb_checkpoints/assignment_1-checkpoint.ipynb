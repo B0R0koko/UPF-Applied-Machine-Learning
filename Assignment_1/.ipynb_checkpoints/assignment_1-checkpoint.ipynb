{
 "cells": [
  {
   "cell_type": "markdown",
   "metadata": {
    "id": "eLvjUuJdzS7z"
   },
   "source": [
    "# Introduction to PuLP\n",
    "\n",
    "For case 1, you will need to define and solve optimization problems. In this notebook, I'll help you understand how to use `pulp`, a Python package for modeling optimization problems. You might want to check the following links:\n",
    "\n",
    "- Documentation: https://coin-or.github.io/pulp/\n",
    "- Homepage: https://github.com/coin-or/pulp\n",
    "\n"
   ]
  },
  {
   "cell_type": "markdown",
   "metadata": {
    "id": "HFavOEVS0dbY"
   },
   "source": [
    "# Installing and checking all is in place"
   ]
  },
  {
   "cell_type": "markdown",
   "metadata": {
    "id": "HgZwpjUG0PsK"
   },
   "source": [
    "The first thing you need to do is to install `pulp`. `pulp` is not in the standard available packages in Colab, so you need to run the following cell once. "
   ]
  },
  {
   "cell_type": "code",
   "execution_count": null,
   "metadata": {
    "id": "ni6Q_YiO0nIm"
   },
   "outputs": [],
   "source": [
    "!pip install pulp"
   ]
  },
  {
   "cell_type": "markdown",
   "metadata": {
    "id": "k9YI0Kzw0qLT"
   },
   "source": [
    "After doing that, you can import the library."
   ]
  },
  {
   "cell_type": "code",
   "execution_count": null,
   "metadata": {
    "id": "hw6keX7x0tZ1"
   },
   "outputs": [],
   "source": [
    "import pulp"
   ]
  },
  {
   "cell_type": "markdown",
   "metadata": {
    "id": "vD_rXehL1KXX"
   },
   "source": [
    "If all is good, running the following command will print a large log testing `pulp`. The last line should read \"OK\"."
   ]
  },
  {
   "cell_type": "code",
   "execution_count": null,
   "metadata": {
    "id": "Ney2a8mu1JqQ"
   },
   "outputs": [],
   "source": [
    "pulp.pulpTestAll()"
   ]
  },
  {
   "cell_type": "markdown",
   "metadata": {
    "id": "oiXz40NR1whf"
   },
   "source": [
    "# Defining and solving problems\n",
    "\n",
    "The following cells show you the absolute minimum to model and solve a problem with `pulp`. The steps are:\n",
    "\n",
    "1. Define decision variables\n",
    "2. Define the target function\n",
    "3. Define the constraints\n",
    "4. Assemble the problem\n",
    "5. Solve it\n",
    "6. Examine results\n",
    "\n",
    "For more flexibility, options and interesting stuff, please check up the PuLP documentation."
   ]
  },
  {
   "cell_type": "markdown",
   "metadata": {
    "id": "nq5bcQs03g0j"
   },
   "source": [
    "## Define decision variables"
   ]
  },
  {
   "cell_type": "code",
   "execution_count": null,
   "metadata": {
    "id": "0SPhww4L3buh"
   },
   "outputs": [],
   "source": [
    "x = pulp.LpVariable(\n",
    "    name=\"x\",\n",
    "    cat=pulp.LpContinuous \n",
    "    )\n",
    "\n",
    "y = pulp.LpVariable(\n",
    "    name=\"y\",\n",
    "    cat=pulp.LpInteger # This will make the variable integer only\n",
    "    )\n",
    "\n",
    "z = pulp.LpVariable(\n",
    "    name=\"z\",\n",
    "    cat=pulp.LpBinary # This will make the variable binary (only 0 or 1)\n",
    ")"
   ]
  },
  {
   "cell_type": "markdown",
   "metadata": {
    "id": "uhlbq2oO35kp"
   },
   "source": [
    "## Define the target function"
   ]
  },
  {
   "cell_type": "code",
   "execution_count": null,
   "metadata": {
    "id": "pu3Im9DH39CN"
   },
   "outputs": [],
   "source": [
    "target_function = 10 * x - 5 * y + z"
   ]
  },
  {
   "cell_type": "markdown",
   "metadata": {
    "id": "lqD0dD474Izw"
   },
   "source": [
    "## Define constraints"
   ]
  },
  {
   "cell_type": "code",
   "execution_count": null,
   "metadata": {
    "id": "5Cu51lYj4OUC"
   },
   "outputs": [],
   "source": [
    "constraint_1 = x >= 0\n",
    "constraint_2 = y >= 0\n",
    "constraint_3 = x >= 10\n",
    "constraint_4 = y <= 50"
   ]
  },
  {
   "cell_type": "markdown",
   "metadata": {
    "id": "d5nq94IM4kSU"
   },
   "source": [
    "## Assemble the problem\n",
    "\n",
    "To put all the parts together, you need to declare a problem and specify if you want to minimize or maximize the target function.\n",
    "\n",
    "Once you have that:\n",
    "- First, you \"add\" the target function.\n",
    "- After, you \"add\" all the constraints you want to include."
   ]
  },
  {
   "cell_type": "code",
   "execution_count": null,
   "metadata": {
    "id": "yI-Oiwh64mRc"
   },
   "outputs": [],
   "source": [
    "problem = pulp.LpProblem(\"my_silly_problem\", pulp.LpMinimize)\n",
    "\n",
    "problem += target_function\n",
    "\n",
    "for constraint in (\n",
    "    constraint_1,\n",
    "    constraint_2,\n",
    "    constraint_3,\n",
    "    constraint_4\n",
    "    ):\n",
    "  problem += constraint"
   ]
  },
  {
   "cell_type": "markdown",
   "metadata": {
    "id": "RJTWfR8-5fBd"
   },
   "source": [
    "## Solve it\n",
    "\n",
    "The problem object is now unsolved. You can call the `solve` method on it to find a solution."
   ]
  },
  {
   "cell_type": "code",
   "execution_count": null,
   "metadata": {
    "id": "4Fbltpbp5mRi"
   },
   "outputs": [],
   "source": [
    "f\"Status: {pulp.LpStatus[problem.status]}\"\n",
    "problem.solve()"
   ]
  },
  {
   "cell_type": "markdown",
   "metadata": {
    "id": "0pc9RmrO7FKo"
   },
   "source": [
    "## Examine results\n",
    "\n",
    "After calling `solve` on a problem, you can access:\n",
    "- The status of the problem. It can be solved, but also it might show to be not feasible.\n",
    "- The values assigned to each decision variable.\n",
    "- The final value for the target function.\n",
    "\n"
   ]
  },
  {
   "cell_type": "code",
   "execution_count": null,
   "metadata": {
    "id": "8U4xVvUg9W07"
   },
   "outputs": [],
   "source": [
    "print(f\"Status: {pulp.LpStatus[problem.status]}\")\n",
    "for v in problem.variables():\n",
    "    print(v.name, \"=\", v.varValue)\n",
    "    \n",
    "print(pulp.value(problem.objective))"
   ]
  },
  {
   "cell_type": "markdown",
   "metadata": {
    "id": "I2lNaFm2XVK1"
   },
   "source": [
    "# Peanut Butter Example\n",
    "\n",
    "As an additional example, you can find below the model and solver for the Peanut Butter Sandwich example we discussed on our lectures."
   ]
  },
  {
   "cell_type": "code",
   "execution_count": null,
   "metadata": {
    "id": "HI4E2dNoXVK4"
   },
   "outputs": [],
   "source": [
    "pb = pulp.LpVariable(\n",
    "    name=\"Peanut Butter grams\",\n",
    "    cat=pulp.LpContinuous \n",
    "    )\n",
    "\n",
    "b = pulp.LpVariable(\n",
    "    name=\"Bread grams\",\n",
    "    cat=pulp.LpContinuous \n",
    "    )"
   ]
  },
  {
   "cell_type": "code",
   "execution_count": null,
   "metadata": {
    "id": "PfTxq8R0XVLB"
   },
   "outputs": [],
   "source": [
    "target_function = 5.88 * pb + 2.87 * b"
   ]
  },
  {
   "cell_type": "code",
   "execution_count": null,
   "metadata": {
    "id": "2X1AzQM8XVLD"
   },
   "outputs": [],
   "source": [
    "no_negative_pb = pb >= 0\n",
    "no_negative_b = b >= 0\n",
    "max_pb_we_have = pb <= 200\n",
    "max_b_we_have = b <= 300\n",
    "doctors_dietary_restriction = pb <= 0.13 * b"
   ]
  },
  {
   "cell_type": "code",
   "execution_count": null,
   "metadata": {
    "id": "3oEoQXebXVLE"
   },
   "outputs": [],
   "source": [
    "problem = pulp.LpProblem(\"sandwich_problem\", pulp.LpMaximize)\n",
    "\n",
    "problem += target_function\n",
    "\n",
    "for constraint in (\n",
    "    no_negative_pb,\n",
    "    no_negative_b,\n",
    "    max_pb_we_have,\n",
    "    max_b_we_have,\n",
    "    doctors_dietary_restriction\n",
    "    ):\n",
    "  problem += constraint"
   ]
  },
  {
   "cell_type": "code",
   "execution_count": null,
   "metadata": {
    "id": "u1vI73kiXVLF"
   },
   "outputs": [],
   "source": [
    "f\"Status: {pulp.LpStatus[problem.status]}\"\n",
    "problem.solve()\n",
    "print(f\"Status: {pulp.LpStatus[problem.status]}\")\n",
    "for v in problem.variables():\n",
    "    print(v.name, \"=\", v.varValue)\n",
    "    \n",
    "print(f\"Final calories: {pulp.value(problem.objective)}\")"
   ]
  },
  {
   "cell_type": "markdown",
   "metadata": {
    "id": "6kWgbTjU-LaN"
   },
   "source": [
    "# Case 2\n",
    "\n",
    "You can use the rest of the notebook to work on the different parts of case 1."
   ]
  },
  {
   "cell_type": "code",
   "execution_count": null,
   "metadata": {
    "id": "aYzseTWh-Sal"
   },
   "outputs": [],
   "source": [
    "# Good luck!"
   ]
  }
 ],
 "metadata": {
  "colab": {
   "provenance": [],
   "toc_visible": true
  },
  "kernelspec": {
   "display_name": "Python 3",
   "name": "python3"
  },
  "language_info": {
   "name": "python"
  }
 },
 "nbformat": 4,
 "nbformat_minor": 0
}
